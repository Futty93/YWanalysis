{
  "nbformat": 4,
  "nbformat_minor": 0,
  "metadata": {
    "colab": {
      "provenance": [],
      "include_colab_link": true
    },
    "kernelspec": {
      "name": "python3",
      "display_name": "Python 3"
    },
    "language_info": {
      "name": "python"
    }
  },
  "cells": [
    {
      "cell_type": "markdown",
      "metadata": {
        "id": "view-in-github",
        "colab_type": "text"
      },
      "source": [
        "<a href=\"https://colab.research.google.com/github/Futty93/YWanalysis/blob/main/SampleYamada.ipynb\" target=\"_parent\"><img src=\"https://colab.research.google.com/assets/colab-badge.svg\" alt=\"Open In Colab\"/></a>"
      ]
    },
    {
      "cell_type": "markdown",
      "source": [
        "左の📂を押して、EXCELファイルをドラック＆ドロップで読み込んでください"
      ],
      "metadata": {
        "id": "XylRx8F96fHx"
      }
    },
    {
      "cell_type": "code",
      "source": [
        "##ファイル名を入力！！！\n",
        "FileName = \"SampleExcel.xlsx\""
      ],
      "metadata": {
        "id": "p90pwxyReKpy"
      },
      "execution_count": null,
      "outputs": []
    },
    {
      "cell_type": "code",
      "source": [
        "from IPython.utils import path\n",
        "import openpyxl ##Excelを読み書きするため\n",
        "import tqdm ##プログレスバーを表示するため\n",
        "from openpyxl.chart import( ##Excelにグラフを描画するため\n",
        "    ScatterChart,\n",
        "    BarChart,\n",
        "    Reference,\n",
        "    Series,\n",
        ")\n",
        "from openpyxl.chart import Reference\n",
        "from openpyxl.chart.axis import DateAxis\n",
        "import math\n",
        "\n",
        "\"\"\"↓↓↓↓↓↓↓↓↓↓↓↓データの読み込みエリア↓↓↓↓↓↓↓↓↓↓↓↓\"\"\"\n",
        "inputData = openpyxl.load_workbook(FileName) ##ファイルを開く Open File.\n",
        "\n",
        "blank, sample1, sample2, sample3 = [], [], [], [] #それぞれの値を読み込むための空の配列を準備\n",
        "\n",
        "p = 0\n",
        "\n",
        "for i in range(14, 1154+19, 19): #14から1154まで19刻みで繰り返す\n",
        "  blank.append([])\n",
        "  sample1.append([])\n",
        "  sample2.append([])\n",
        "  sample3.append([])\n",
        "  for j in range(3): #3つの連続したデータをそれぞれの配列に追加\n",
        "    blank[p].append(inputData.active.cell(row=(i+j), column=9).value)\n",
        "    sample1[p].append(inputData.active.cell(row=(i+j), column=10).value)\n",
        "    sample2[p].append(inputData.active.cell(row=(i+j), column=11).value)\n",
        "    sample3[p].append(inputData.active.cell(row=(i+j), column=12).value)\n",
        "  \n",
        "  p += 1\n",
        "\n",
        "# print(sample2)\n",
        "\n",
        "\"\"\"↓↓↓↓↓↓↓↓↓↓↓↓データの操作エリア↓↓↓↓↓↓↓↓↓↓↓↓\"\"\"\n",
        "inputData.create_sheet(\"EditedData\") #EditedDataという名前のシートを作成\n",
        "\n",
        "for i in range(len(blank)): #①各行について 「サンプルの値-blankの値」を行う\n",
        "  for j in range(3):\n",
        "    sample1[i][j] = sample1[i][j] - blank[i][j]\n",
        "    sample2[i][j] = sample2[i][j] - blank[i][j]\n",
        "    sample3[i][j] = sample3[i][j] - blank[i][j]\n",
        "# print(sample3)\n",
        "\n",
        "for i in range(len(sample1)): #② ①の値についてtriplicateで平均を算出する\n",
        "  inputData[\"EditedData\"].cell(row=1, column=2).value = \"control\"\n",
        "  inputData[\"EditedData\"].cell(row=1, column=3).value = \"ACP1b\"\n",
        "  inputData[\"EditedData\"].cell(row=1, column=4).value = \"242a\"\n",
        "  inputData[\"EditedData\"].cell(row=i+2, column=1).value = i\n",
        "  sample1[i] = (sample1[i][0] + sample1[i][1] + sample1[i][2])/3\n",
        "  inputData[\"EditedData\"].cell(row=i+2, column=2).value = sample1[i]\n",
        "  sample2[i] = (sample2[i][0] + sample2[i][1] + sample2[i][2])/3\n",
        "  inputData[\"EditedData\"].cell(row=i+2, column=3).value = sample2[i]\n",
        "  sample3[i] = (sample3[i][0] + sample3[i][1] + sample3[i][2])/3\n",
        "  inputData[\"EditedData\"].cell(row=i+2, column=4).value = sample3[i]\n",
        "# print(sample1)\n",
        "\n",
        "\n",
        "\"\"\"↓↓↓↓↓↓↓↓↓↓↓↓グラフの描画エリア↓↓↓↓↓↓↓↓↓↓↓↓\"\"\"\n",
        "graph = openpyxl.chart.LineChart() #グラフの種類\n",
        "# graph.title  = \"Sample\" #グラフのタイトル  必要なら入力してください\n",
        "graph.style  = 12 #グラフのフォントサイズ\n",
        "graph.height = 10 #高さ\n",
        "graph.width  = 15 #幅\n",
        "\n",
        "graph.y_axis.title = inputData.sheetnames[0] #y軸ラベル\n",
        "yValue = Reference(inputData[\"EditedData\"],min_col = 2, min_row = 1, max_col = 4, max_row = 62)\n",
        "xValue = Reference(inputData[\"EditedData\"],min_col = 1, min_row = 2, max_row = 62)\n",
        "\n",
        "graph.add_data(yValue, titles_from_data=True) ##y軸のデータ\n",
        "graph.set_categories(xValue) ##x軸のデータ\n",
        "graph.y_axis.numFmt = \"0\" ##縦軸のラベルの書式指定 小数第2位まで表示\n",
        "\n",
        "inputData[\"EditedData\"].add_chart(graph, \"E2\") ##E2にグラフを描画 Draw a graph at position E2\n",
        "\n",
        "#X-Y軸(1)グラフスタイル\n",
        "style = graph.series[0]\n",
        "style.graphicalProperties.line.solidFill = \"AAAAAA\"   #グラフカラー\n",
        "style.graphicalProperties.line.width = 40000          #グラフ幅\n",
        "# style.smooth = False                                   #グラフの線を滑らかにする\n",
        "\n",
        "#X-Y軸(2)グラフスタイル\n",
        "style2 = graph.series[1]\n",
        "style2.graphicalProperties.line.solidFill = \"5B9BD5\"  #グラフカラー\n",
        "style2.graphicalProperties.line.width = 40000         #グラフ幅\n",
        "# style2.smooth = True                                  #グラフの線を滑らかにする\n",
        "\n",
        "style3 = graph.series[2]\n",
        "style3.graphicalProperties.line.solidFill = \"ED7D31\"  #グラフカラー\n",
        "style3.graphicalProperties.line.width = 40000         #グラフ幅\n",
        "# style3.smooth = True                                  #グラフの線を滑らかにする\n",
        "\n",
        "\n",
        "\n",
        "inputData.save(\"Edited_\" + FileName) ##エクセルファイルを保存 Save Excel file\n",
        "inputData.close() ##エクセルファイルを閉じる Close Excel file"
      ],
      "metadata": {
        "id": "08YmW4L6G3SX"
      },
      "execution_count": 28,
      "outputs": []
    }
  ]
}